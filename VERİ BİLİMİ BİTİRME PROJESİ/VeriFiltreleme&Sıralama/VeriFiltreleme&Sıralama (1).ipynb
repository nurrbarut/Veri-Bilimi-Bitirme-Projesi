{
 "cells": [
  {
   "cell_type": "markdown",
   "id": "8863b321-4fb6-4bfd-afc9-dde584a358f8",
   "metadata": {},
   "source": [
    "# <span style=\"color:darkred\"> 4. Veri Filtreleme & Sıralama Projesi (country.csv)</span>"
   ]
  },
  {
   "cell_type": "markdown",
   "id": "3ee8f070-078d-428b-8b65-0b90d96b9b2f",
   "metadata": {},
   "source": [
    "# <span style=\"color:darkred\">Görevler</span>"
   ]
  },
  {
   "cell_type": "markdown",
   "id": "44004414-29be-48da-915b-1bf65df2d0fb",
   "metadata": {},
   "source": [
    "### 1. Nüfusa göre azalan sırada ülkeleri listeleyin."
   ]
  },
  {
   "cell_type": "code",
   "execution_count": 4,
   "id": "106a63a7-e128-4594-9ae0-960312865fef",
   "metadata": {},
   "outputs": [
    {
     "name": "stdout",
     "output_type": "stream",
     "text": [
      "                   Country  Population\n",
      "42                  China   1313973713\n",
      "94                  India   1095351995\n",
      "214         United States    298444215\n",
      "95              Indonesia    245452739\n",
      "27                 Brazil    188078227\n",
      "..                     ...         ...\n",
      "144                 Nauru        13287\n",
      "209                Tuvalu        11810\n",
      "140            Montserrat         9439\n",
      "171          Saint Helena         7502\n",
      "174  St Pierre & Miquelon         7026\n",
      "\n",
      "[227 rows x 2 columns]\n"
     ]
    }
   ],
   "source": [
    "import pandas as pd\n",
    "\n",
    "df = pd.read_csv(\"C:/Users/Nur/Documents/country.csv\")\n",
    "df_sorted_population = df.sort_values(by=\"Population\", ascending=False)\n",
    "print(df_sorted_population[[\"Country\", \"Population\"]])"
   ]
  },
  {
   "cell_type": "markdown",
   "id": "0d80137c-0019-4d73-b368-cb796c73d03a",
   "metadata": {},
   "source": [
    "Bu liste, en kalabalık ülkelerden başlayarak nüfus sırasına göre ülkeleri gösterir. En üstte Çin, Hindistan gibi çok büyük nüfusa sahip ülkeler yer alır."
   ]
  },
  {
   "cell_type": "markdown",
   "id": "f963a61c-22af-4813-b5fb-478bb97a4467",
   "metadata": {},
   "source": [
    "### 2. GDP per capita’ya göre artan sırada ülkeleri listeleyin."
   ]
  },
  {
   "cell_type": "code",
   "execution_count": 5,
   "id": "0e0955e7-7a49-4f8c-8b23-21c09aea2d47",
   "metadata": {},
   "outputs": [
    {
     "name": "stdout",
     "output_type": "stream",
     "text": [
      "             Country  GDP ($ per capita)\n",
      "58       East Timor                500.0\n",
      "183    Sierra Leone                500.0\n",
      "188         Somalia                500.0\n",
      "33          Burundi                600.0\n",
      "125          Malawi                600.0\n",
      "..               ...                 ...\n",
      "22          Bermuda              36000.0\n",
      "154          Norway              37800.0\n",
      "214   United States              37800.0\n",
      "121      Luxembourg              55100.0\n",
      "223  Western Sahara                  NaN\n",
      "\n",
      "[227 rows x 2 columns]\n"
     ]
    }
   ],
   "source": [
    "df_sorted_gdp = df.sort_values(by=\"GDP ($ per capita)\", ascending=True)\n",
    "print(df_sorted_gdp[[\"Country\", \"GDP ($ per capita)\"]])"
   ]
  },
  {
   "cell_type": "markdown",
   "id": "19732d53-0b57-4b9a-97fe-f9ba32823adb",
   "metadata": {},
   "source": [
    "Bu liste, kişi başına düşen GDP’si en düşük ülkelerden başlayarak artan sırada düzenlenmiştir. Kalkınma seviyesi düşük ülkeler üstte yer alır."
   ]
  },
  {
   "cell_type": "markdown",
   "id": "9f9e15cd-e583-49c8-a72f-d164a59a8f5d",
   "metadata": {},
   "source": [
    "### 3. Nüfusu 10 milyonun üzerinde olan ülkeleri seçin."
   ]
  },
  {
   "cell_type": "code",
   "execution_count": 6,
   "id": "cdf376b8-1ffe-4a31-8898-bab36f47b687",
   "metadata": {},
   "outputs": [
    {
     "name": "stdout",
     "output_type": "stream",
     "text": [
      "          Country  Population\n",
      "0    Afghanistan     31056997\n",
      "2        Algeria     32930091\n",
      "5         Angola     12127071\n",
      "8      Argentina     39921833\n",
      "11     Australia     20264082\n",
      "..            ...         ...\n",
      "218    Venezuela     25730435\n",
      "219      Vietnam     84402966\n",
      "224        Yemen     21456188\n",
      "225       Zambia     11502010\n",
      "226     Zimbabwe     12236805\n",
      "\n",
      "[79 rows x 2 columns]\n"
     ]
    }
   ],
   "source": [
    "df_population_above_10m = df[df[\"Population\"] > 10000000]\n",
    "print(df_population_above_10m[[\"Country\", \"Population\"]])"
   ]
  },
  {
   "cell_type": "markdown",
   "id": "943b610e-f8e2-4324-b20e-a7de3cd5f45f",
   "metadata": {},
   "source": [
    "Bu filtreleme, nüfusu 10 milyondan fazla olan ülkeleri seçer. Liste genellikle büyük ülkeleri içerir."
   ]
  },
  {
   "cell_type": "markdown",
   "id": "6fde868e-328f-4867-a2d3-0d3d424da062",
   "metadata": {},
   "source": [
    "### 4. Literacy oranına göre en yüksek ilk 5 ülkeyi seçin."
   ]
  },
  {
   "cell_type": "code",
   "execution_count": 7,
   "id": "bbb81c2c-66d7-4c1a-bc9c-2e0b2e1dcefb",
   "metadata": {},
   "outputs": [
    {
     "name": "stdout",
     "output_type": "stream",
     "text": [
      "             Country Literacy (%)\n",
      "53   Czech Republic          99,9\n",
      "93          Iceland          99,9\n",
      "163          Poland          99,8\n",
      "114          Latvia          99,8\n",
      "64          Estonia          99,8\n"
     ]
    }
   ],
   "source": [
    "df_literacy_top5 = df.sort_values(by=\"Literacy (%)\", ascending=False).head(5)\n",
    "print(df_literacy_top5[[\"Country\", \"Literacy (%)\"]])"
   ]
  },
  {
   "cell_type": "markdown",
   "id": "fb1d1259-f1d4-4ed0-9466-677aa0ca5556",
   "metadata": {},
   "source": [
    "Okuryazarlık oranı en yüksek 5 ülkeyi gösterir. Bu ülkeler genellikle eğitim seviyesi yüksek gelişmiş ülkelerdir."
   ]
  },
  {
   "cell_type": "markdown",
   "id": "3bea608d-fcb0-411b-ac81-5dc6dfc97949",
   "metadata": {},
   "source": [
    "### 5. GDP per capita > 10.000 olan ülkeleri filtreleyin."
   ]
  },
  {
   "cell_type": "code",
   "execution_count": 8,
   "id": "afeef620-8054-43d8-84c8-972a1a3ffc3a",
   "metadata": {},
   "outputs": [
    {
     "name": "stdout",
     "output_type": "stream",
     "text": [
      "                   Country  GDP ($ per capita)\n",
      "4                 Andorra              19000.0\n",
      "7       Antigua & Barbuda              11000.0\n",
      "8               Argentina              11200.0\n",
      "10                  Aruba              28000.0\n",
      "11              Australia              29000.0\n",
      "..                     ...                 ...\n",
      "212  United Arab Emirates              23200.0\n",
      "213        United Kingdom              27700.0\n",
      "214         United States              37800.0\n",
      "215               Uruguay              12800.0\n",
      "220        Virgin Islands              17200.0\n",
      "\n",
      "[76 rows x 2 columns]\n"
     ]
    }
   ],
   "source": [
    "df_gdp_above_10000 = df[df[\"GDP ($ per capita)\"] > 10000]\n",
    "print(df_gdp_above_10000[[\"Country\", \"GDP ($ per capita)\"]])"
   ]
  },
  {
   "cell_type": "markdown",
   "id": "be2679b0-cd53-440a-9a83-39d1829190f4",
   "metadata": {},
   "source": [
    "Kişi başına gelir 10.000 $’ın üzerinde olan ülkeler gelişmiş ülkeler kategorisine girer."
   ]
  },
  {
   "cell_type": "markdown",
   "id": "6b6c72f0-286c-443b-a265-de1a7be90c24",
   "metadata": {},
   "source": [
    "### 6. Nüfus yoğunluğu en yüksek ilk 10 ülkeyi bulun."
   ]
  },
  {
   "cell_type": "code",
   "execution_count": 9,
   "id": "32a5c73e-0716-49f7-bd44-a3e767d9b152",
   "metadata": {},
   "outputs": [
    {
     "name": "stdout",
     "output_type": "stream",
     "text": [
      "         Country Pop. Density (per sq. mi.)\n",
      "9       Armenia                        99,9\n",
      "186    Slovenia                        99,2\n",
      "202        Togo                        97,7\n",
      "12      Austria                        97,7\n",
      "168     Romania                        93,9\n",
      "77        Ghana                        93,6\n",
      "140  Montserrat                        92,5\n",
      "13   Azerbaijan                        91,9\n",
      "56     Dominica                        91,4\n",
      "206      Turkey                        90,2\n"
     ]
    }
   ],
   "source": [
    "df_density_top10 = df.sort_values(by=\"Pop. Density (per sq. mi.)\", ascending=False).head(10)\n",
    "print(df_density_top10[[\"Country\", \"Pop. Density (per sq. mi.)\"]])"
   ]
  },
  {
   "cell_type": "markdown",
   "id": "4777c9dc-f22f-4592-8bc0-cc2320162059",
   "metadata": {},
   "source": [
    "Bu liste, kilometrekare başına düşen insan sayısının en yüksek olduğu 10 ülkeyi verir. Yoğun şehirleşmiş ülkeler üst sıralarda yer alır."
   ]
  }
 ],
 "metadata": {
  "kernelspec": {
   "display_name": "Python [conda env:base] *",
   "language": "python",
   "name": "conda-base-py"
  },
  "language_info": {
   "codemirror_mode": {
    "name": "ipython",
    "version": 3
   },
   "file_extension": ".py",
   "mimetype": "text/x-python",
   "name": "python",
   "nbconvert_exporter": "python",
   "pygments_lexer": "ipython3",
   "version": "3.13.5"
  }
 },
 "nbformat": 4,
 "nbformat_minor": 5
}
